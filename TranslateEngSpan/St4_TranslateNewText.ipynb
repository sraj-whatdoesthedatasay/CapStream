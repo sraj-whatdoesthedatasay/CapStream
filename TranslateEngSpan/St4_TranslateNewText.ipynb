{
 "cells": [
  {
   "cell_type": "markdown",
   "metadata": {},
   "source": [
    "## This Notebook is to read in the model and then translate from English to Spanish"
   ]
  },
  {
   "cell_type": "code",
   "execution_count": 2,
   "metadata": {},
   "outputs": [],
   "source": [
    "# Standard imports\n",
    "import pandas as pd\n",
    "import numpy as np\n",
    "import re\n",
    "import pickle\n",
    "import string\n",
    "import json\n",
    "\n",
    "# Visualization library\n",
    "import seaborn as sns\n",
    "import matplotlib.pyplot as plt\n",
    "\n",
    "# NLP library\n",
    "from nltk.tokenize import word_tokenize\n",
    "from tensorflow import keras\n",
    "import tensorflow as tf\n",
    "\n",
    "from tensorflow.keras.layers import Input, LSTM, Dense, Masking\n",
    "from tensorflow.keras.models import Model\n",
    "from keras.backend import manual_variable_initialization\n",
    "\n",
    "manual_variable_initialization(True)"
   ]
  },
  {
   "cell_type": "code",
   "execution_count": 3,
   "metadata": {},
   "outputs": [],
   "source": [
    "from numpy.random import seed\n",
    "seed(42)\n",
    "tf.random.set_seed(42)\n"
   ]
  },
  {
   "cell_type": "code",
   "execution_count": 4,
   "metadata": {},
   "outputs": [],
   "source": [
    "# Encoder training setup\n",
    "num_encoder_tokens = 4428\n",
    "num_decoder_tokens = 7675\n",
    "\n",
    "max_encoder_seq_length = 7\n",
    "max_decoder_seq_length = 16\n",
    "\n",
    "latent_dim = 256"
   ]
  },
  {
   "cell_type": "code",
   "execution_count": 5,
   "metadata": {},
   "outputs": [],
   "source": [
    "import pickle\n",
    "\n",
    "with open('./data/rtfd.p', 'rb') as fp:\n",
    "    reverse_target_features_dict = pickle.load(fp)\n",
    "    \n",
    "with open('./data/tfd.p', 'rb') as fp:\n",
    "    target_features_dict = pickle.load(fp)\n",
    "    \n",
    "with open('./data/rifd.p', 'rb') as fp:\n",
    "    reverse_input_features_dict = pickle.load(fp)\n",
    "\n",
    "with open('./data/ifd.p', 'rb') as fp:\n",
    "    input_features_dict = pickle.load(fp)"
   ]
  },
  {
   "cell_type": "markdown",
   "metadata": {},
   "source": [
    "## Next few cells are to confirm that dictionary and reverse dictionaries are working as expected"
   ]
  },
  {
   "cell_type": "code",
   "execution_count": 6,
   "metadata": {},
   "outputs": [
    {
     "data": {
      "text/plain": [
       "{'a': 0, 'aback': 1}"
      ]
     },
     "execution_count": 6,
     "metadata": {},
     "output_type": "execute_result"
    }
   ],
   "source": [
    "# Python 3\n",
    "first2pairs = {k: input_features_dict[k] for k in list(input_features_dict)[:2]}\n",
    "first2pairs"
   ]
  },
  {
   "cell_type": "code",
   "execution_count": 7,
   "metadata": {},
   "outputs": [
    {
     "data": {
      "text/plain": [
       "{0: 'a', 1: 'aback'}"
      ]
     },
     "execution_count": 7,
     "metadata": {},
     "output_type": "execute_result"
    }
   ],
   "source": [
    "# Python 3\n",
    "first2pairs = {k: reverse_input_features_dict[k] for k in list(reverse_input_features_dict)[:2]}\n",
    "first2pairs"
   ]
  },
  {
   "cell_type": "code",
   "execution_count": 8,
   "metadata": {},
   "outputs": [
    {
     "data": {
      "text/plain": [
       "{'<END>': 0,\n",
       " '<START>': 1,\n",
       " 'a': 2,\n",
       " 'abajo': 3,\n",
       " 'abandona': 4,\n",
       " 'abandonada': 5,\n",
       " 'abandonado': 6,\n",
       " 'abandonamos': 7,\n",
       " 'abandonar': 8,\n",
       " 'abandonaron': 9}"
      ]
     },
     "execution_count": 8,
     "metadata": {},
     "output_type": "execute_result"
    }
   ],
   "source": [
    "# Python 3\n",
    "first2pairs = {k: target_features_dict[k] for k in list(target_features_dict)[:10]}\n",
    "first2pairs"
   ]
  },
  {
   "cell_type": "code",
   "execution_count": 9,
   "metadata": {},
   "outputs": [
    {
     "data": {
      "text/plain": [
       "{0: '<END>',\n",
       " 1: '<START>',\n",
       " 2: 'a',\n",
       " 3: 'abajo',\n",
       " 4: 'abandona',\n",
       " 5: 'abandonada',\n",
       " 6: 'abandonado',\n",
       " 7: 'abandonamos',\n",
       " 8: 'abandonar',\n",
       " 9: 'abandonaron'}"
      ]
     },
     "execution_count": 9,
     "metadata": {},
     "output_type": "execute_result"
    }
   ],
   "source": [
    "# Python 3\n",
    "first2pairs = {k: reverse_target_features_dict[k] for k in list(reverse_target_features_dict)[:10]}\n",
    "first2pairs"
   ]
  },
  {
   "cell_type": "markdown",
   "metadata": {},
   "source": [
    "## Next block is to load the model that has been built and then functions needed for translation and then translate"
   ]
  },
  {
   "cell_type": "code",
   "execution_count": 12,
   "metadata": {},
   "outputs": [],
   "source": [
    "#TRANSLATING UNSEEN TEXT\n",
    "from tensorflow.keras.models import Model, load_model\n",
    "\n",
    "#training_model = load_model('./models/')\n",
    "training_model = load_model('training_model_v2.h5')\n",
    "#training_model.compile(optimizer='rmsprop', loss='categorical_crossentropy', metrics=['accuracy'], sample_weight_mode='temporal')\n",
    "#training_model = load_weights('tr_weights.h5')\n",
    "\n",
    "encoder_inputs = training_model.input[0] #input1\n",
    "encoder_outputs, state_h_enc, state_c_enc = training_model.layers[2].output #lstm1\n",
    "encoder_states = [state_h_enc, state_c_enc]\n",
    "\n",
    "encoder_model = Model(encoder_inputs, encoder_states)\n",
    "\n",
    "latent_dim = 256\n",
    "\n",
    "decoder_inputs = training_model.input[1] #input2\n",
    "\n",
    "decoder_state_input_hidden = Input(shape=(latent_dim),name=\"input_3\")\n",
    "decoder_state_input_cell = Input(shape=(latent_dim), name = \"input_4\")\n",
    "decoder_states_inputs = [decoder_state_input_hidden, decoder_state_input_cell]\n",
    "\n",
    "decoder_lstm = training_model.layers[3]\n",
    "\n",
    "decoder_outputs, state_hidden, state_cell = decoder_lstm(decoder_inputs, initial_state=decoder_states_inputs)\n",
    "decoder_states = [state_hidden, state_cell]\n",
    "\n",
    "decoder_dense = training_model.layers[4]\n",
    "\n",
    "decoder_outputs = decoder_dense(decoder_outputs)\n",
    "\n",
    "decoder_model = Model([decoder_inputs] + decoder_states_inputs, [decoder_outputs] + decoder_states)"
   ]
  },
  {
   "cell_type": "code",
   "execution_count": 13,
   "metadata": {},
   "outputs": [],
   "source": [
    "## This function takes in the string to be translated and converts into the matrix that is the intput into the LSTM model\n",
    "\n",
    "def string_to_matrix(user_input):\n",
    "    tokens = re.findall(r\"[\\w']+|[^\\s\\w]\", user_input)\n",
    "    user_input_matrix = np.zeros((1, max_encoder_seq_length, num_encoder_tokens), dtype='float32')\n",
    "    for timestep, token in enumerate(tokens):\n",
    "        if token in input_features_dict:\n",
    "            user_input_matrix[0, timestep, input_features_dict[token]] = 1.\n",
    "    return user_input_matrix"
   ]
  },
  {
   "cell_type": "code",
   "execution_count": 14,
   "metadata": {},
   "outputs": [],
   "source": [
    "## This function is used to pass the sentence to be translates, makes other function calls and then translates the sentence\n",
    "def decode_sequence(test_input):\n",
    "   \n",
    "    # Encode the input as state vectors.\n",
    "    states_value = encoder_model.predict(string_to_matrix(test_input))\n",
    "\n",
    "    # Generate empty target sequence of length 1.\n",
    "    target_seq = np.zeros((1, 1, num_decoder_tokens))\n",
    "    # Populate the first token of target sequence with the start token.\n",
    "    target_seq[0, 0, target_features_dict['<START>']] = 1.\n",
    "\n",
    "    # Sampling loop for a batch of sequences\n",
    "    decoded_sentence = ''\n",
    "\n",
    "    stop_condition = False\n",
    "    while not stop_condition:\n",
    "        # Run the decoder model to get possible output tokens (with probabilities) & states\n",
    "        output_tokens, hidden_state, cell_state = decoder_model.predict([target_seq] + states_value)\n",
    "\n",
    "        # Choose token with highest probability and append it to decoded sentence\n",
    "        sampled_token_index = np.argmax(output_tokens[0, -1, :])\n",
    "        sampled_token = reverse_target_features_dict[sampled_token_index]\n",
    "        decoded_sentence += \" \" + sampled_token\n",
    "\n",
    "        # Exit condition: either hit max length or find stop token.\n",
    "        if (sampled_token == '<END>' or len(decoded_sentence) > max_decoder_seq_length):\n",
    "            stop_condition = True\n",
    "\n",
    "        # Update the target sequence (of length 1).\n",
    "        target_seq = np.zeros((1, 1, num_decoder_tokens))\n",
    "        target_seq[0, 0, sampled_token_index] = 1.\n",
    "\n",
    "        # Update states\n",
    "        states_value = [hidden_state, cell_state]\n",
    "\n",
    "    return decoded_sentence"
   ]
  },
  {
   "cell_type": "code",
   "execution_count": 15,
   "metadata": {},
   "outputs": [
    {
     "ename": "IndexError",
     "evalue": "index 5024 is out of bounds for axis 2 with size 4428",
     "output_type": "error",
     "traceback": [
      "\u001b[1;31m---------------------------------------------------------------------------\u001b[0m",
      "\u001b[1;31mIndexError\u001b[0m                                Traceback (most recent call last)",
      "\u001b[1;32m<ipython-input-15-8395c967cd56>\u001b[0m in \u001b[0;36m<module>\u001b[1;34m\u001b[0m\n\u001b[0;32m      1\u001b[0m \u001b[1;31m# Example decoded sentence\u001b[0m\u001b[1;33m\u001b[0m\u001b[1;33m\u001b[0m\u001b[1;33m\u001b[0m\u001b[0m\n\u001b[1;32m----> 2\u001b[1;33m \u001b[0mdecode_sequence\u001b[0m\u001b[1;33m(\u001b[0m\u001b[1;34m'how are you'\u001b[0m\u001b[1;33m)\u001b[0m\u001b[1;33m\u001b[0m\u001b[1;33m\u001b[0m\u001b[0m\n\u001b[0m",
      "\u001b[1;32m<ipython-input-14-2554aa775dcd>\u001b[0m in \u001b[0;36mdecode_sequence\u001b[1;34m(test_input)\u001b[0m\n\u001b[0;32m      3\u001b[0m \u001b[1;33m\u001b[0m\u001b[0m\n\u001b[0;32m      4\u001b[0m     \u001b[1;31m# Encode the input as state vectors.\u001b[0m\u001b[1;33m\u001b[0m\u001b[1;33m\u001b[0m\u001b[1;33m\u001b[0m\u001b[0m\n\u001b[1;32m----> 5\u001b[1;33m     \u001b[0mstates_value\u001b[0m \u001b[1;33m=\u001b[0m \u001b[0mencoder_model\u001b[0m\u001b[1;33m.\u001b[0m\u001b[0mpredict\u001b[0m\u001b[1;33m(\u001b[0m\u001b[0mstring_to_matrix\u001b[0m\u001b[1;33m(\u001b[0m\u001b[0mtest_input\u001b[0m\u001b[1;33m)\u001b[0m\u001b[1;33m)\u001b[0m\u001b[1;33m\u001b[0m\u001b[1;33m\u001b[0m\u001b[0m\n\u001b[0m\u001b[0;32m      6\u001b[0m \u001b[1;33m\u001b[0m\u001b[0m\n\u001b[0;32m      7\u001b[0m     \u001b[1;31m# Generate empty target sequence of length 1.\u001b[0m\u001b[1;33m\u001b[0m\u001b[1;33m\u001b[0m\u001b[1;33m\u001b[0m\u001b[0m\n",
      "\u001b[1;32m<ipython-input-13-11502e5f5f74>\u001b[0m in \u001b[0;36mstring_to_matrix\u001b[1;34m(user_input)\u001b[0m\n\u001b[0;32m      6\u001b[0m     \u001b[1;32mfor\u001b[0m \u001b[0mtimestep\u001b[0m\u001b[1;33m,\u001b[0m \u001b[0mtoken\u001b[0m \u001b[1;32min\u001b[0m \u001b[0menumerate\u001b[0m\u001b[1;33m(\u001b[0m\u001b[0mtokens\u001b[0m\u001b[1;33m)\u001b[0m\u001b[1;33m:\u001b[0m\u001b[1;33m\u001b[0m\u001b[1;33m\u001b[0m\u001b[0m\n\u001b[0;32m      7\u001b[0m         \u001b[1;32mif\u001b[0m \u001b[0mtoken\u001b[0m \u001b[1;32min\u001b[0m \u001b[0minput_features_dict\u001b[0m\u001b[1;33m:\u001b[0m\u001b[1;33m\u001b[0m\u001b[1;33m\u001b[0m\u001b[0m\n\u001b[1;32m----> 8\u001b[1;33m             \u001b[0muser_input_matrix\u001b[0m\u001b[1;33m[\u001b[0m\u001b[1;36m0\u001b[0m\u001b[1;33m,\u001b[0m \u001b[0mtimestep\u001b[0m\u001b[1;33m,\u001b[0m \u001b[0minput_features_dict\u001b[0m\u001b[1;33m[\u001b[0m\u001b[0mtoken\u001b[0m\u001b[1;33m]\u001b[0m\u001b[1;33m]\u001b[0m \u001b[1;33m=\u001b[0m \u001b[1;36m1.\u001b[0m\u001b[1;33m\u001b[0m\u001b[1;33m\u001b[0m\u001b[0m\n\u001b[0m\u001b[0;32m      9\u001b[0m     \u001b[1;32mreturn\u001b[0m \u001b[0muser_input_matrix\u001b[0m\u001b[1;33m\u001b[0m\u001b[1;33m\u001b[0m\u001b[0m\n",
      "\u001b[1;31mIndexError\u001b[0m: index 5024 is out of bounds for axis 2 with size 4428"
     ]
    }
   ],
   "source": [
    "# Example decoded sentence\n",
    "decode_sequence('how are you')"
   ]
  },
  {
   "cell_type": "code",
   "execution_count": null,
   "metadata": {},
   "outputs": [],
   "source": [
    "# Example decoded sentence\n",
    "decode_sequence('it is hot today')"
   ]
  },
  {
   "cell_type": "code",
   "execution_count": null,
   "metadata": {},
   "outputs": [],
   "source": [
    "# Example decoded sentence\n",
    "decode_sequence('what is your name')"
   ]
  },
  {
   "cell_type": "code",
   "execution_count": null,
   "metadata": {},
   "outputs": [],
   "source": []
  }
 ],
 "metadata": {
  "kernelspec": {
   "display_name": "Python 3",
   "language": "python",
   "name": "python3"
  },
  "language_info": {
   "codemirror_mode": {
    "name": "ipython",
    "version": 3
   },
   "file_extension": ".py",
   "mimetype": "text/x-python",
   "name": "python",
   "nbconvert_exporter": "python",
   "pygments_lexer": "ipython3",
   "version": "3.8.5"
  }
 },
 "nbformat": 4,
 "nbformat_minor": 4
}

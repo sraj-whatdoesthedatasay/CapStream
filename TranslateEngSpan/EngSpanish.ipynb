{
 "cells": [
  {
   "cell_type": "code",
   "execution_count": 43,
   "metadata": {},
   "outputs": [
    {
     "name": "stdin",
     "output_type": "stream",
     "text": [
      "Once deleted, variables cannot be recovered. Proceed (y/[n])?  y\n"
     ]
    }
   ],
   "source": [
    "%reset"
   ]
  },
  {
   "cell_type": "code",
   "execution_count": 1,
   "metadata": {},
   "outputs": [],
   "source": [
    "# Standard imports\n",
    "import pandas as pd\n",
    "import numpy as np\n",
    "import re\n",
    "import pickle\n",
    "import string\n",
    "\n",
    "# Visualization library\n",
    "import seaborn as sns\n",
    "import matplotlib.pyplot as plt\n",
    "\n",
    "# NLP library\n",
    "from nltk.tokenize import word_tokenize\n"
   ]
  },
  {
   "cell_type": "code",
   "execution_count": 2,
   "metadata": {},
   "outputs": [],
   "source": [
    "from numpy.random import seed\n",
    "seed(42)"
   ]
  },
  {
   "cell_type": "code",
   "execution_count": 3,
   "metadata": {},
   "outputs": [],
   "source": [
    "lines= pd.read_table('spa.txt', names=['eng', 'spa'])"
   ]
  },
  {
   "cell_type": "code",
   "execution_count": 4,
   "metadata": {},
   "outputs": [
    {
     "data": {
      "text/html": [
       "<div>\n",
       "<style scoped>\n",
       "    .dataframe tbody tr th:only-of-type {\n",
       "        vertical-align: middle;\n",
       "    }\n",
       "\n",
       "    .dataframe tbody tr th {\n",
       "        vertical-align: top;\n",
       "    }\n",
       "\n",
       "    .dataframe thead th {\n",
       "        text-align: right;\n",
       "    }\n",
       "</style>\n",
       "<table border=\"1\" class=\"dataframe\">\n",
       "  <thead>\n",
       "    <tr style=\"text-align: right;\">\n",
       "      <th></th>\n",
       "      <th>eng</th>\n",
       "      <th>spa</th>\n",
       "    </tr>\n",
       "  </thead>\n",
       "  <tbody>\n",
       "    <tr>\n",
       "      <th>Go.</th>\n",
       "      <td>Ve.</td>\n",
       "      <td>CC-BY 2.0 (France) Attribution: tatoeba.org #2...</td>\n",
       "    </tr>\n",
       "    <tr>\n",
       "      <th>Go.</th>\n",
       "      <td>Vete.</td>\n",
       "      <td>CC-BY 2.0 (France) Attribution: tatoeba.org #2...</td>\n",
       "    </tr>\n",
       "    <tr>\n",
       "      <th>Go.</th>\n",
       "      <td>Vaya.</td>\n",
       "      <td>CC-BY 2.0 (France) Attribution: tatoeba.org #2...</td>\n",
       "    </tr>\n",
       "    <tr>\n",
       "      <th>Go.</th>\n",
       "      <td>Váyase.</td>\n",
       "      <td>CC-BY 2.0 (France) Attribution: tatoeba.org #2...</td>\n",
       "    </tr>\n",
       "    <tr>\n",
       "      <th>Hi.</th>\n",
       "      <td>Hola.</td>\n",
       "      <td>CC-BY 2.0 (France) Attribution: tatoeba.org #5...</td>\n",
       "    </tr>\n",
       "  </tbody>\n",
       "</table>\n",
       "</div>"
      ],
      "text/plain": [
       "         eng                                                spa\n",
       "Go.      Ve.  CC-BY 2.0 (France) Attribution: tatoeba.org #2...\n",
       "Go.    Vete.  CC-BY 2.0 (France) Attribution: tatoeba.org #2...\n",
       "Go.    Vaya.  CC-BY 2.0 (France) Attribution: tatoeba.org #2...\n",
       "Go.  Váyase.  CC-BY 2.0 (France) Attribution: tatoeba.org #2...\n",
       "Hi.    Hola.  CC-BY 2.0 (France) Attribution: tatoeba.org #5..."
      ]
     },
     "execution_count": 4,
     "metadata": {},
     "output_type": "execute_result"
    }
   ],
   "source": [
    "lines.head()"
   ]
  },
  {
   "cell_type": "code",
   "execution_count": 5,
   "metadata": {},
   "outputs": [],
   "source": [
    "lines.reset_index(inplace=True)\n",
    "lines.columns=['eng', 'spa', 'misc']\n",
    "lines.drop(columns='misc', inplace=True)"
   ]
  },
  {
   "cell_type": "code",
   "execution_count": 6,
   "metadata": {},
   "outputs": [],
   "source": [
    "# Lowercase all characters\n",
    "lines.eng=lines.eng.apply(lambda x: x.lower())\n",
    "lines.spa=lines.spa.apply(lambda x: x.lower())\n",
    "\n",
    "# Remove quotes\n",
    "lines.eng=lines.eng.apply(lambda x: re.sub(\"'\", '', x))\n",
    "lines.spa=lines.spa.apply(lambda x: re.sub(\"¿\", '', x))\n",
    "lines.spa=lines.spa.apply(lambda x: re.sub(\"'\", '', x))\n",
    "exclude = set(string.punctuation) # Set of all special characters\n",
    "\n",
    "# Remove all the special characters\n",
    "lines.eng=lines.eng.apply(lambda x: ''.join(ch for ch in x if ch not in exclude))\n",
    "lines.spa=lines.spa.apply(lambda x: ''.join(ch for ch in x if ch not in exclude))\n",
    "\n",
    "# Remove all numbers from text\n",
    "remove_digits = str.maketrans('', '', string.digits)\n",
    "lines.eng=lines.eng.apply(lambda x: x.translate(remove_digits))\n",
    "lines.spa=lines.spa.apply(lambda x: x.translate(remove_digits))\n",
    "\n",
    "# Remove extra spaces\n",
    "lines.eng=lines.eng.apply(lambda x: x.strip())\n",
    "lines.spa=lines.spa.apply(lambda x: x.strip())\n",
    "lines.eng=lines.eng.apply(lambda x: re.sub(\" +\", \" \", x))\n",
    "lines.spa=lines.spa.apply(lambda x: re.sub(\" +\", \" \", x))\n",
    "\n",
    "# Add start and end tokens to target sequences\n",
    "#lines.mar = lines.mar.apply(lambda x : 'START_ '+ x + ' _END')"
   ]
  },
  {
   "cell_type": "code",
   "execution_count": 7,
   "metadata": {},
   "outputs": [
    {
     "data": {
      "text/plain": [
       "0                                                        go\n",
       "1                                                        go\n",
       "2                                                        go\n",
       "3                                                        go\n",
       "4                                                        hi\n",
       "                                ...                        \n",
       "128079    there are four main causes of alcoholrelated d...\n",
       "128080    there are mothers and fathers who will lie awa...\n",
       "128081    a carbon footprint is the amount of carbon dio...\n",
       "128082    since there are usually multiple websites on a...\n",
       "128083    if you want to sound like a native speaker you...\n",
       "Name: eng, Length: 128084, dtype: object"
      ]
     },
     "execution_count": 7,
     "metadata": {},
     "output_type": "execute_result"
    }
   ],
   "source": [
    "lines.eng"
   ]
  },
  {
   "cell_type": "code",
   "execution_count": 8,
   "metadata": {},
   "outputs": [],
   "source": [
    "# Defining the data\n",
    "df = lines[['eng', 'spa']]\n",
    "\n",
    "# Calculating the length of each line of dialogue\n",
    "df['eng_len'] = df['eng'].apply(lambda x: len(x))\n",
    "df['spa_len'] = df['spa'].apply(lambda x: len(x))"
   ]
  },
  {
   "cell_type": "code",
   "execution_count": 9,
   "metadata": {},
   "outputs": [
    {
     "data": {
      "text/plain": [
       "[['a bird has wings', 'los pájaros tienen alas', 16, 23],\n",
       " ['a bird has wings', 'un pájaro tiene alas', 16, 20],\n",
       " ['a cab is waiting', 'hay un taxi esperando', 16, 21],\n",
       " ['a deal is a deal', 'un trato es un trato', 16, 20],\n",
       " ['a dog is barking', 'un perro está ladrando', 16, 22],\n",
       " ['a fox came along', 'un zorro se acercó', 16, 18],\n",
       " ['a girl phoned me', 'una chica me llamó por teléfono', 16, 31],\n",
       " ['a lion is strong', 'el león es fuerte', 16, 17]]"
      ]
     },
     "execution_count": 9,
     "metadata": {},
     "output_type": "execute_result"
    }
   ],
   "source": [
    "# Saving dataframe with dialogue length less than 50 characters\n",
    "df = df[df['eng_len']< 50]\n",
    "df = df[df['eng_len']> 15]\n",
    "df = df[df['spa_len']> 15]\n",
    "df = df[df['spa_len']< 50]\n",
    "\n",
    "data = df.values.tolist()\n",
    "\n",
    "# Examining the first 5 rows\n",
    "data[:8]"
   ]
  },
  {
   "cell_type": "code",
   "execution_count": 10,
   "metadata": {},
   "outputs": [
    {
     "data": {
      "text/plain": [
       "97345"
      ]
     },
     "execution_count": 10,
     "metadata": {},
     "output_type": "execute_result"
    }
   ],
   "source": [
    "len(data)"
   ]
  },
  {
   "cell_type": "code",
   "execution_count": 11,
   "metadata": {},
   "outputs": [],
   "source": [
    "#Write to csv so it can be used for continuous training later\n",
    "df.to_csv('./data/EngSpa.csv')"
   ]
  },
  {
   "cell_type": "code",
   "execution_count": 12,
   "metadata": {},
   "outputs": [],
   "source": [
    "# Building empty lists to hold sentences\n",
    "input_docs = []\n",
    "target_docs = []\n",
    "# Building empty vocabulary sets\n",
    "input_tokens = set()\n",
    "target_tokens = set()\n",
    "\n",
    "# Setting the amount of data points to use\n",
    "n = 18000\n",
    "\n",
    "for line in data[:n]:\n",
    "    # Defining an input document and a target document\n",
    "    input_doc, target_doc = line[0], line[1]\n",
    "    \n",
    "    # Appending each input sentence to input_docs\n",
    "    input_docs.append(input_doc)\n",
    "    \n",
    "    # Formatting target documents\n",
    "    # Splitting words from punctuation  \n",
    "    target_doc = \" \".join(re.findall(r\"[\\w']+|[^\\s\\w]\", target_doc))\n",
    "    # Adding <START> and <END> tags\n",
    "    target_doc = '<START> ' + target_doc + ' <END>'\n",
    "    # Appending each formated target to target documents\n",
    "    target_docs.append(target_doc)\n",
    "  \n",
    "    # Splitting each sentence into words and adding to vocabulary\n",
    "    for token in re.findall(r\"[\\w']+|[^\\s\\w]\", input_doc):\n",
    "        if token not in input_tokens:\n",
    "            input_tokens.add(token)\n",
    "    \n",
    "    for token in target_doc.split():\n",
    "        if token not in target_tokens:\n",
    "            target_tokens.add(token)"
   ]
  },
  {
   "cell_type": "code",
   "execution_count": 13,
   "metadata": {},
   "outputs": [
    {
     "name": "stdout",
     "output_type": "stream",
     "text": [
      "a bird has wings\n",
      "<START> los pájaros tienen alas <END>\n"
     ]
    }
   ],
   "source": [
    "print(input_docs[0])\n",
    "print(target_docs[0])"
   ]
  },
  {
   "cell_type": "code",
   "execution_count": 14,
   "metadata": {},
   "outputs": [],
   "source": [
    "# Creating a sorted list of all input tokens and target tokens\n",
    "input_tokens = sorted(list(input_tokens))\n",
    "target_tokens = sorted(list(target_tokens))\n",
    "\n",
    "# Saving the length of vocabulary sets as variables. Encoder and Decoder\n",
    "num_encoder_tokens = len(input_tokens)\n",
    "num_decoder_tokens = len(target_tokens)\n",
    "\n",
    "# Finding the maximum length of an input sentence and target sentence\n",
    "max_encoder_seq_length = max([len(re.findall(r\"[\\w']+|[^\\s\\w]\", input_doc)) for input_doc in input_docs])\n",
    "max_decoder_seq_length = max([len(re.findall(r\"[\\w']+|[^\\s\\w]\", target_doc)) for target_doc in target_docs])"
   ]
  },
  {
   "cell_type": "code",
   "execution_count": null,
   "metadata": {},
   "outputs": [],
   "source": []
  },
  {
   "cell_type": "code",
   "execution_count": 15,
   "metadata": {},
   "outputs": [
    {
     "name": "stdout",
     "output_type": "stream",
     "text": [
      "Number of Encoder Tokens: 4428\n",
      "Number of Decoder Tokens: 7675\n",
      "Maximum Encoder Sequence Length: 7\n",
      "Maximum Decoder Sequence Length: 16\n"
     ]
    }
   ],
   "source": [
    "print(f'Number of Encoder Tokens: {num_encoder_tokens}')\n",
    "print(f'Number of Decoder Tokens: {num_decoder_tokens}')\n",
    "print(f'Maximum Encoder Sequence Length: {max_encoder_seq_length}')\n",
    "print(f'Maximum Decoder Sequence Length: {max_decoder_seq_length}')"
   ]
  },
  {
   "cell_type": "code",
   "execution_count": 16,
   "metadata": {},
   "outputs": [],
   "source": [
    "# Creating four dictionaries\n",
    "input_features_dict = dict(\n",
    "    [(token, i) for i, token in enumerate(input_tokens)])\n",
    "target_features_dict = dict(\n",
    "    [(token, i) for i, token in enumerate(target_tokens)])\n",
    "\n",
    "# Creating the reverse \n",
    "reverse_input_features_dict = dict(\n",
    "    (i, token) for token, i in input_features_dict.items())\n",
    "reverse_target_features_dict = dict(\n",
    "    (i, token) for token, i in target_features_dict.items())"
   ]
  },
  {
   "cell_type": "code",
   "execution_count": 17,
   "metadata": {},
   "outputs": [],
   "source": [
    "import pickle\n",
    "\n",
    "with open('./data/rtfd.p', 'wb') as fp:\n",
    "    pickle.dump(reverse_target_features_dict, fp, protocol=pickle.HIGHEST_PROTOCOL)\n",
    "    \n",
    "with open('./data/tfd.p', 'wb') as fp:\n",
    "    pickle.dump(target_features_dict, fp, protocol=pickle.HIGHEST_PROTOCOL)\n",
    "    \n",
    "with open('./data/rifd.p', 'wb') as fp:\n",
    "    pickle.dump(reverse_input_features_dict, fp, protocol=pickle.HIGHEST_PROTOCOL)\n",
    "    \n",
    "with open('./data/ifd.p', 'wb') as fp:\n",
    "    pickle.dump(input_features_dict, fp, protocol=pickle.HIGHEST_PROTOCOL)"
   ]
  },
  {
   "cell_type": "code",
   "execution_count": 18,
   "metadata": {},
   "outputs": [
    {
     "data": {
      "text/plain": [
       "{0: 'a', 1: 'aback'}"
      ]
     },
     "execution_count": 18,
     "metadata": {},
     "output_type": "execute_result"
    }
   ],
   "source": [
    "# Python 3\n",
    "first2pairs = {k: reverse_input_features_dict[k] for k in list(reverse_input_features_dict)[:2]}\n",
    "first2pairs"
   ]
  },
  {
   "cell_type": "code",
   "execution_count": 19,
   "metadata": {},
   "outputs": [
    {
     "data": {
      "text/plain": [
       "{'a': 0, 'aback': 1}"
      ]
     },
     "execution_count": 19,
     "metadata": {},
     "output_type": "execute_result"
    }
   ],
   "source": [
    "# Python 3\n",
    "first2pairs = {k: input_features_dict[k] for k in list(input_features_dict)[:2]}\n",
    "first2pairs"
   ]
  },
  {
   "cell_type": "code",
   "execution_count": 20,
   "metadata": {},
   "outputs": [
    {
     "data": {
      "text/plain": [
       "{'a': 2,\n",
       " 'abajo': 3,\n",
       " 'abandona': 4,\n",
       " 'abandonado': 5,\n",
       " 'abandonados': 6,\n",
       " 'abandonamos': 7}"
      ]
     },
     "execution_count": 20,
     "metadata": {},
     "output_type": "execute_result"
    }
   ],
   "source": [
    "# Python 3\n",
    "first2pairs = {k: target_features_dict[k] for k in list(target_features_dict)[2:8]}\n",
    "first2pairs"
   ]
  },
  {
   "cell_type": "code",
   "execution_count": 21,
   "metadata": {},
   "outputs": [],
   "source": [
    "# Creating empty matricies for input data\n",
    "\n",
    "encoder_input_data = np.zeros(\n",
    "    (len(input_docs), max_encoder_seq_length, num_encoder_tokens),\n",
    "    dtype='float32')\n",
    "decoder_input_data = np.zeros(\n",
    "    (len(input_docs), max_decoder_seq_length, num_decoder_tokens),\n",
    "    dtype='float32')\n",
    "decoder_target_data = np.zeros(\n",
    "    (len(input_docs), max_decoder_seq_length, num_decoder_tokens),\n",
    "    dtype='float32')"
   ]
  },
  {
   "cell_type": "code",
   "execution_count": 22,
   "metadata": {},
   "outputs": [
    {
     "name": "stdout",
     "output_type": "stream",
     "text": [
      "Encoder Input Data Shape: (18000, 7, 4428)\n",
      "Decoder Input Data Shape: (18000, 16, 7675)\n",
      "Decoder Target Data Shape: (18000, 16, 7675)\n"
     ]
    }
   ],
   "source": [
    "print(f'Encoder Input Data Shape: {encoder_input_data.shape}')\n",
    "print(f'Decoder Input Data Shape: {decoder_input_data.shape}')\n",
    "print(f'Decoder Target Data Shape: {decoder_target_data.shape}')"
   ]
  },
  {
   "cell_type": "code",
   "execution_count": 23,
   "metadata": {},
   "outputs": [],
   "source": [
    "# This block of code sets up our data for input to the neural net.\n",
    "\n",
    "for line, (input_doc, target_doc) in enumerate(zip(input_docs, target_docs)):\n",
    "\n",
    "    for timestep, token in enumerate(re.findall(r\"[\\w']+|[^\\s\\w]\", input_doc)):\n",
    "        # Assigning 1.0 for the current line, timestep, & word in encoder_input_data:\n",
    "        encoder_input_data[line, timestep, input_features_dict[token]] = 1.0\n",
    "        # Potential Conditional Statement\n",
    "\n",
    "    for timestep, token in enumerate(target_doc.split()):\n",
    "        # Assigning 1.0 for same in decoder_input_data\n",
    "        decoder_input_data[line, timestep, target_features_dict[token]] = 1.0\n",
    "        if timestep > 0:\n",
    "            \n",
    "            # Setting the decoder target data for 1 previous timestep\n",
    "            decoder_target_data[line, timestep - 1, target_features_dict[token]] = 1.0"
   ]
  },
  {
   "cell_type": "code",
   "execution_count": 24,
   "metadata": {},
   "outputs": [
    {
     "data": {
      "text/plain": [
       "0"
      ]
     },
     "execution_count": 24,
     "metadata": {},
     "output_type": "execute_result"
    }
   ],
   "source": [
    "np.argmax(encoder_input_data[1])"
   ]
  },
  {
   "cell_type": "code",
   "execution_count": 25,
   "metadata": {},
   "outputs": [
    {
     "data": {
      "text/plain": [
       "'a'"
      ]
     },
     "execution_count": 25,
     "metadata": {},
     "output_type": "execute_result"
    }
   ],
   "source": [
    "reverse_input_features_dict[0]"
   ]
  },
  {
   "cell_type": "code",
   "execution_count": 26,
   "metadata": {},
   "outputs": [
    {
     "name": "stdout",
     "output_type": "stream",
     "text": [
      "4428 7675 7 16\n"
     ]
    }
   ],
   "source": [
    "print(num_encoder_tokens, num_decoder_tokens, max_encoder_seq_length, max_decoder_seq_length)"
   ]
  },
  {
   "cell_type": "code",
   "execution_count": 27,
   "metadata": {},
   "outputs": [],
   "source": [
    "import tensorflow as tf\n",
    "from tensorflow import keras\n",
    "from tensorflow.keras.layers import Input, LSTM, Dense, Masking\n",
    "from tensorflow.keras.models import Model, save_model\n",
    "from tensorflow.keras.callbacks import EarlyStopping, ModelCheckpoint\n",
    "from keras.backend import manual_variable_initialization\n",
    "\n",
    "manual_variable_initialization(True)\n",
    "import os"
   ]
  },
  {
   "cell_type": "code",
   "execution_count": 28,
   "metadata": {},
   "outputs": [],
   "source": [
    "tf.random.set_seed(42)"
   ]
  },
  {
   "cell_type": "code",
   "execution_count": 29,
   "metadata": {},
   "outputs": [],
   "source": [
    "#Defining the model structure\n",
    "latent_dim = 256 ### CHANGE THIS\n",
    "batch_size = 128\n",
    "epochs = 50\n",
    "\n",
    "# Encoder training setup\n",
    "encoder_inputs = Input(shape=(None, num_encoder_tokens))\n",
    "\n",
    "encoder_lstm = LSTM(latent_dim, return_state=True)\n",
    "encoder_outputs, state_h, state_c = encoder_lstm(encoder_inputs) \n",
    "encoder_states = [state_h, state_c]\n",
    "\n",
    "# Decoder training setup:\n",
    "decoder_inputs = Input(shape=(None, num_decoder_tokens))\n",
    "decoder_lstm = LSTM(latent_dim, return_sequences=True, return_state=True)\n",
    "decoder_outputs,_ ,_ = decoder_lstm(decoder_inputs, initial_state=encoder_states)\n",
    "decoder_dense = Dense(num_decoder_tokens, activation='softmax')\n",
    "decoder_outputs = decoder_dense(decoder_outputs)"
   ]
  },
  {
   "cell_type": "code",
   "execution_count": 30,
   "metadata": {},
   "outputs": [
    {
     "name": "stdout",
     "output_type": "stream",
     "text": [
      "WARNING:tensorflow:`period` argument is deprecated. Please use `save_freq` to specify the frequency in number of batches seen.\n",
      "Epoch 1/25\n",
      "113/113 [==============================] - 192s 2s/step - loss: 2.0757 - accuracy: 0.7124 - val_loss: 2.0557 - val_accuracy: 0.7288\n",
      "Epoch 2/25\n",
      "113/113 [==============================] - 180s 2s/step - loss: 1.8462 - accuracy: 0.7533 - val_loss: 2.0620 - val_accuracy: 0.7303\n",
      "Epoch 3/25\n",
      "113/113 [==============================] - 178s 2s/step - loss: 1.8205 - accuracy: 0.7534 - val_loss: 2.0738 - val_accuracy: 0.7289\n",
      "Epoch 4/25\n",
      "113/113 [==============================] - 176s 2s/step - loss: 1.8027 - accuracy: 0.7542 - val_loss: 2.0685 - val_accuracy: 0.7334\n",
      "Epoch 5/25\n",
      "113/113 [==============================] - 180s 2s/step - loss: 1.7823 - accuracy: 0.7579 - val_loss: 2.0392 - val_accuracy: 0.7414\n",
      "Epoch 6/25\n",
      "113/113 [==============================] - 186s 2s/step - loss: 1.7493 - accuracy: 0.7643 - val_loss: 2.0065 - val_accuracy: 0.7446\n",
      "Epoch 7/25\n",
      "113/113 [==============================] - 179s 2s/step - loss: 1.7116 - accuracy: 0.7684 - val_loss: 1.9796 - val_accuracy: 0.7482\n",
      "Epoch 8/25\n",
      "113/113 [==============================] - 177s 2s/step - loss: 1.6821 - accuracy: 0.7716 - val_loss: 1.9686 - val_accuracy: 0.7517\n",
      "Epoch 9/25\n",
      "113/113 [==============================] - 176s 2s/step - loss: 1.6516 - accuracy: 0.7744 - val_loss: 1.9521 - val_accuracy: 0.7524\n",
      "Epoch 10/25\n",
      "113/113 [==============================] - 174s 2s/step - loss: 1.6225 - accuracy: 0.7766 - val_loss: 1.9312 - val_accuracy: 0.7556\n",
      "Epoch 11/25\n",
      "113/113 [==============================] - 187s 2s/step - loss: 1.6012 - accuracy: 0.7789 - val_loss: 1.9089 - val_accuracy: 0.7593\n",
      "Epoch 12/25\n",
      "113/113 [==============================] - 182s 2s/step - loss: 1.5690 - accuracy: 0.7836 - val_loss: 1.9053 - val_accuracy: 0.7605\n",
      "Epoch 13/25\n",
      "113/113 [==============================] - 181s 2s/step - loss: 1.5436 - accuracy: 0.7880 - val_loss: 1.8842 - val_accuracy: 0.7640\n",
      "Epoch 14/25\n",
      "113/113 [==============================] - 182s 2s/step - loss: 1.5074 - accuracy: 0.7928 - val_loss: 1.8688 - val_accuracy: 0.7660\n",
      "Epoch 15/25\n",
      "113/113 [==============================] - 187s 2s/step - loss: 1.4789 - accuracy: 0.7959 - val_loss: 1.8498 - val_accuracy: 0.7691\n",
      "Epoch 16/25\n",
      "113/113 [==============================] - 178s 2s/step - loss: 1.4539 - accuracy: 0.7996 - val_loss: 1.8372 - val_accuracy: 0.7718\n",
      "Epoch 17/25\n",
      "113/113 [==============================] - 179s 2s/step - loss: 1.4238 - accuracy: 0.8027 - val_loss: 1.8155 - val_accuracy: 0.7732\n",
      "Epoch 18/25\n",
      "113/113 [==============================] - 180s 2s/step - loss: 1.4033 - accuracy: 0.8051 - val_loss: 1.8108 - val_accuracy: 0.7749\n",
      "Epoch 19/25\n",
      "113/113 [==============================] - 179s 2s/step - loss: 1.3797 - accuracy: 0.8087 - val_loss: 1.8047 - val_accuracy: 0.7756\n",
      "Epoch 20/25\n",
      "113/113 [==============================] - 178s 2s/step - loss: 1.3590 - accuracy: 0.8119 - val_loss: 1.7873 - val_accuracy: 0.7789\n",
      "Epoch 21/25\n",
      "113/113 [==============================] - 188s 2s/step - loss: 1.3359 - accuracy: 0.8146 - val_loss: 1.7717 - val_accuracy: 0.7805\n",
      "Epoch 22/25\n",
      "113/113 [==============================] - 181s 2s/step - loss: 1.3193 - accuracy: 0.8162 - val_loss: 1.7676 - val_accuracy: 0.7799\n",
      "Epoch 23/25\n",
      "113/113 [==============================] - 181s 2s/step - loss: 1.2944 - accuracy: 0.8200 - val_loss: 1.7536 - val_accuracy: 0.7827\n",
      "Epoch 24/25\n",
      "113/113 [==============================] - 179s 2s/step - loss: 1.2748 - accuracy: 0.8227 - val_loss: 1.7466 - val_accuracy: 0.7836\n",
      "Epoch 25/25\n",
      "113/113 [==============================] - 176s 2s/step - loss: 1.2577 - accuracy: 0.8248 - val_loss: 1.7424 - val_accuracy: 0.7851\n"
     ]
    }
   ],
   "source": [
    "epochs = 25\n",
    "batch_size = 128\n",
    "\n",
    "#callback = EarlyStopping(monitor='val_accuracy', patience=4)\n",
    "\n",
    "training_model = Model([encoder_inputs, decoder_inputs], decoder_outputs)\n",
    "\n",
    "training_model.compile(optimizer='rmsprop', loss='categorical_crossentropy', metrics=['accuracy'], sample_weight_mode='temporal')\n",
    "\n",
    "model_checkpoint= ModelCheckpoint('endspan{epoch:02d}.h5',period=5,save_weights_only=False)\n",
    "\n",
    "history = training_model.fit([encoder_input_data, decoder_input_data], decoder_target_data, \n",
    "                    batch_size = batch_size, \n",
    "                    epochs = epochs, \n",
    "                    callbacks=[model_checkpoint],         \n",
    "                    validation_split = 0.2)\n",
    "                    #callbacks = callback)\n"
   ]
  },
  {
   "cell_type": "code",
   "execution_count": 31,
   "metadata": {},
   "outputs": [
    {
     "name": "stdout",
     "output_type": "stream",
     "text": [
      "Epoch 1/15\n",
      "113/113 [==============================] - 195s 2s/step - loss: 1.2402 - accuracy: 0.8281 - val_loss: 1.7338 - val_accuracy: 0.7864\n",
      "Epoch 2/15\n",
      "113/113 [==============================] - 180s 2s/step - loss: 1.2220 - accuracy: 0.8303 - val_loss: 1.7257 - val_accuracy: 0.7868\n",
      "Epoch 3/15\n",
      "113/113 [==============================] - 177s 2s/step - loss: 1.2044 - accuracy: 0.8327 - val_loss: 1.7226 - val_accuracy: 0.7887\n",
      "Epoch 4/15\n",
      "113/113 [==============================] - 182s 2s/step - loss: 1.1861 - accuracy: 0.8351 - val_loss: 1.7127 - val_accuracy: 0.7883\n",
      "Epoch 5/15\n",
      "113/113 [==============================] - 180s 2s/step - loss: 1.1694 - accuracy: 0.8371 - val_loss: 1.7044 - val_accuracy: 0.7906\n",
      "Epoch 6/15\n",
      "113/113 [==============================] - 177s 2s/step - loss: 1.1534 - accuracy: 0.8394 - val_loss: 1.7088 - val_accuracy: 0.7901\n",
      "Epoch 7/15\n",
      "113/113 [==============================] - 181s 2s/step - loss: 1.1380 - accuracy: 0.8416 - val_loss: 1.6924 - val_accuracy: 0.7921\n",
      "Epoch 8/15\n",
      "113/113 [==============================] - 179s 2s/step - loss: 1.1215 - accuracy: 0.8440 - val_loss: 1.6955 - val_accuracy: 0.7933\n",
      "Epoch 9/15\n",
      "113/113 [==============================] - 189s 2s/step - loss: 1.1064 - accuracy: 0.8462 - val_loss: 1.6877 - val_accuracy: 0.7932\n",
      "Epoch 10/15\n",
      "113/113 [==============================] - 180s 2s/step - loss: 1.0926 - accuracy: 0.8483 - val_loss: 1.6883 - val_accuracy: 0.7945\n",
      "Epoch 11/15\n",
      "113/113 [==============================] - 179s 2s/step - loss: 1.0783 - accuracy: 0.8503 - val_loss: 1.6743 - val_accuracy: 0.7957\n",
      "Epoch 12/15\n",
      "113/113 [==============================] - 179s 2s/step - loss: 1.0642 - accuracy: 0.8527 - val_loss: 1.6791 - val_accuracy: 0.7955\n",
      "Epoch 13/15\n",
      "113/113 [==============================] - 191s 2s/step - loss: 1.0504 - accuracy: 0.8550 - val_loss: 1.6957 - val_accuracy: 0.7928\n",
      "Epoch 14/15\n",
      "113/113 [==============================] - 274s 2s/step - loss: 1.0380 - accuracy: 0.8567 - val_loss: 1.6668 - val_accuracy: 0.7971\n",
      "Epoch 15/15\n",
      "113/113 [==============================] - 307s 3s/step - loss: 1.0251 - accuracy: 0.8585 - val_loss: 1.6732 - val_accuracy: 0.7981\n"
     ]
    }
   ],
   "source": [
    "epochs = 15\n",
    "history2 = training_model.fit([encoder_input_data, decoder_input_data], decoder_target_data, \n",
    "                    batch_size = batch_size, \n",
    "                    epochs = epochs, \n",
    "                    callbacks=[model_checkpoint],         \n",
    "                    validation_split = 0.2)\n",
    "                    #callbacks = callback)\n"
   ]
  },
  {
   "cell_type": "code",
   "execution_count": null,
   "metadata": {},
   "outputs": [],
   "source": []
  },
  {
   "cell_type": "code",
   "execution_count": 32,
   "metadata": {},
   "outputs": [],
   "source": [
    "#Saving the model so we can use later\n",
    "#tf.saved_model.save(training_model, './models/')\n",
    "training_model.save('training_model_v2.h5')\n",
    "training_model.save_weights('tr_weights.h5')"
   ]
  },
  {
   "cell_type": "code",
   "execution_count": 33,
   "metadata": {},
   "outputs": [
    {
     "data": {
      "image/png": "[encoded data removed]",
      "text/plain": [
       "<Figure size 432x288 with 1 Axes>"
      ]
     },
     "metadata": {
      "needs_background": "light"
     },
     "output_type": "display_data"
    }
   ],
   "source": [
    "plt.plot(history.history['accuracy'], label='Train')\n",
    "plt.plot(history.history['val_accuracy'], label='Validation')\n",
    "plt.legend()\n",
    "plt.title('Accuracy');"
   ]
  },
  {
   "cell_type": "code",
   "execution_count": 34,
   "metadata": {},
   "outputs": [
    {
     "data": {
      "image/png": "[encoded data removed]",
      "text/plain": [
       "<Figure size 432x288 with 1 Axes>"
      ]
     },
     "metadata": {
      "needs_background": "light"
     },
     "output_type": "display_data"
    }
   ],
   "source": [
    "plt.plot(history.history['loss'], label='Train')\n",
    "plt.plot(history.history['val_loss'], label='Validation')\n",
    "plt.legend()\n",
    "plt.title('Loss');"
   ]
  },
  {
   "cell_type": "code",
   "execution_count": 35,
   "metadata": {},
   "outputs": [],
   "source": [
    "from tensorflow.keras.models import Model, load_model\n",
    "\n",
    "training_model = load_model('training_model_v2.h5')\n",
    "\n",
    "encoder_inputs = training_model.input[0]\n",
    "encoder_outputs, state_h_enc, state_c_enc = training_model.layers[2].output\n",
    "encoder_states = [state_h_enc, state_c_enc]\n",
    "\n",
    "encoder_model = Model(encoder_inputs, encoder_states)\n",
    "\n",
    "latent_dim = 256\n",
    "decoder_state_input_hidden = Input(shape=(latent_dim,))\n",
    "decoder_state_input_cell = Input(shape=(latent_dim,))\n",
    "decoder_states_inputs = [decoder_state_input_hidden, decoder_state_input_cell]\n",
    "decoder_outputs, state_hidden, state_cell = decoder_lstm(decoder_inputs, initial_state=decoder_states_inputs)\n",
    "decoder_states = [state_hidden, state_cell]\n",
    "decoder_outputs = decoder_dense(decoder_outputs)\n",
    "\n",
    "decoder_model = Model([decoder_inputs] + decoder_states_inputs, [decoder_outputs] + decoder_states)"
   ]
  },
  {
   "cell_type": "code",
   "execution_count": 36,
   "metadata": {},
   "outputs": [],
   "source": [
    "def string_to_matrix(user_input):\n",
    "    '''This function takes in a string and outputs the corresponding matrix'''\n",
    "    tokens = re.findall(r\"[\\w']+|[^\\s\\w]\", user_input)\n",
    "    user_input_matrix = np.zeros((1, max_encoder_seq_length, num_encoder_tokens), dtype='float32')\n",
    "    for timestep, token in enumerate(tokens):\n",
    "        if token in input_features_dict:\n",
    "            user_input_matrix[0, timestep, input_features_dict[token]] = 1.\n",
    "    return user_input_matrix"
   ]
  },
  {
   "cell_type": "code",
   "execution_count": 37,
   "metadata": {},
   "outputs": [
    {
     "name": "stdout",
     "output_type": "stream",
     "text": [
      "Model: \"model\"\n",
      "__________________________________________________________________________________________________\n",
      "Layer (type)                    Output Shape         Param #     Connected to                     \n",
      "==================================================================================================\n",
      "input_1 (InputLayer)            [(None, None, 4428)] 0                                            \n",
      "__________________________________________________________________________________________________\n",
      "input_2 (InputLayer)            [(None, None, 7675)] 0                                            \n",
      "__________________________________________________________________________________________________\n",
      "lstm (LSTM)                     [(None, 256), (None, 4797440     input_1[0][0]                    \n",
      "__________________________________________________________________________________________________\n",
      "lstm_1 (LSTM)                   [(None, None, 256),  8122368     input_2[0][0]                    \n",
      "                                                                 lstm[0][1]                       \n",
      "                                                                 lstm[0][2]                       \n",
      "__________________________________________________________________________________________________\n",
      "dense (Dense)                   (None, None, 7675)   1972475     lstm_1[0][0]                     \n",
      "==================================================================================================\n",
      "Total params: 14,892,283\n",
      "Trainable params: 14,892,283\n",
      "Non-trainable params: 0\n",
      "__________________________________________________________________________________________________\n"
     ]
    }
   ],
   "source": [
    "training_model.summary()"
   ]
  },
  {
   "cell_type": "code",
   "execution_count": 38,
   "metadata": {},
   "outputs": [],
   "source": [
    "def decode_sequence(test_input):\n",
    "    '''This function takes in a sentence and returns the decoded sentence'''\n",
    "    \n",
    "    # Encode the input as state vectors.\n",
    "    states_value = encoder_model.predict(string_to_matrix(test_input))\n",
    "\n",
    "    # Generate empty target sequence of length 1.\n",
    "    target_seq = np.zeros((1, 1, num_decoder_tokens))\n",
    "    # Populate the first token of target sequence with the start token.\n",
    "    target_seq[0, 0, target_features_dict['<START>']] = 1.\n",
    "\n",
    "    # Sampling loop for a batch of sequences\n",
    "    decoded_sentence = ''\n",
    "\n",
    "    stop_condition = False\n",
    "    while not stop_condition:\n",
    "        # Run the decoder model to get possible output tokens (with probabilities) & states\n",
    "        output_tokens, hidden_state, cell_state = decoder_model.predict([target_seq] + states_value)\n",
    "\n",
    "        # Choose token with highest probability and append it to decoded sentence\n",
    "        sampled_token_index = np.argmax(output_tokens[0, -1, :])\n",
    "        sampled_token = reverse_target_features_dict[sampled_token_index]\n",
    "        decoded_sentence += \" \" + sampled_token\n",
    "\n",
    "        # Exit condition: either hit max length or find stop token.\n",
    "        if (sampled_token == '<END>' or len(decoded_sentence) > max_decoder_seq_length):\n",
    "            stop_condition = True\n",
    "\n",
    "        # Update the target sequence (of length 1).\n",
    "        target_seq = np.zeros((1, 1, num_decoder_tokens))\n",
    "        target_seq[0, 0, sampled_token_index] = 1.\n",
    "\n",
    "        # Update states\n",
    "        states_value = [hidden_state, cell_state]\n",
    "\n",
    "    return decoded_sentence"
   ]
  },
  {
   "cell_type": "code",
   "execution_count": null,
   "metadata": {},
   "outputs": [],
   "source": []
  },
  {
   "cell_type": "code",
   "execution_count": 39,
   "metadata": {},
   "outputs": [
    {
     "data": {
      "text/plain": [
       "' qué están está <END>'"
      ]
     },
     "execution_count": 39,
     "metadata": {},
     "output_type": "execute_result"
    }
   ],
   "source": [
    "# Example decoded sentence\n",
    "decode_sequence('how are you')"
   ]
  },
  {
   "cell_type": "code",
   "execution_count": 40,
   "metadata": {},
   "outputs": [
    {
     "data": {
      "text/plain": [
       "' hoy es <END>'"
      ]
     },
     "execution_count": 40,
     "metadata": {},
     "output_type": "execute_result"
    }
   ],
   "source": [
    "# Example decoded sentence\n",
    "decode_sequence('it is hot today')"
   ]
  },
  {
   "cell_type": "code",
   "execution_count": 42,
   "metadata": {},
   "outputs": [
    {
     "data": {
      "text/plain": [
       "' estoy estoy <END>'"
      ]
     },
     "execution_count": 42,
     "metadata": {},
     "output_type": "execute_result"
    }
   ],
   "source": [
    "# Example decoded sentence\n",
    "decode_sequence('i am Shashank')"
   ]
  },
  {
   "cell_type": "code",
   "execution_count": 45,
   "metadata": {},
   "outputs": [],
   "source": [
    "class ChatBot:\n",
    "    '''\n",
    "    Utilizing the neural network architecture, this class is to translates English to Spanish. \n",
    "    '''\n",
    "    negative_responses = (\"no\", \"nope\", \"nah\", \"naw\", \"not a chance\", \"sorry\")\n",
    "\n",
    "\n",
    "    exit_commands = (\"quit\", \"pause\", \"exit\", \"goodbye\", \"bye\", \"later\", \"stop\", 'end')\n",
    "\n",
    "    def start_chat(self):\n",
    "        user_response = input(\"Hello - what do you want to translate to Spanish?\\n\")\n",
    "    \n",
    "        if user_response.lower() in self.negative_responses:\n",
    "            print(\"Ok, have a great day!\")\n",
    "            return\n",
    "    \n",
    "        #user_response = input('Great!')\n",
    "    \n",
    "        self.chat(user_response)\n",
    "  \n",
    "    def chat(self, reply):\n",
    "        while not self.make_exit(reply):\n",
    "            reply = input(self.generate_response(reply))\n",
    "    \n",
    "\n",
    "    def string_to_matrix(self, user_input):\n",
    "        tokens = re.findall(r\"[\\w']+|[^\\s\\w]\", user_input)\n",
    "        user_input_matrix = np.zeros((1, max_encoder_seq_length, num_encoder_tokens), dtype='float32')\n",
    "        for timestep, token in enumerate(tokens):\n",
    "            if token in input_features_dict:\n",
    "                user_input_matrix[0, timestep, input_features_dict[token]] = 1.\n",
    "\n",
    "        return user_input_matrix\n",
    "\n",
    "    def generate_response(self, user_input):\n",
    "        input_matrix = self.string_to_matrix(user_input)\n",
    "        states_value = encoder_model.predict(input_matrix)\n",
    "        target_seq = np.zeros((1, 1, num_decoder_tokens))\n",
    "        target_seq[0, 0, target_features_dict['<START>']] = 1.0\n",
    "    \n",
    "        chatbot_response = ''\n",
    "\n",
    "        stop_condition = False\n",
    "\n",
    "        while not stop_condition:\n",
    "\n",
    "            output_tokens, hidden_state, cell_state = decoder_model.predict([target_seq] + states_value)\n",
    "\n",
    "            sampled_token_index = np.argmax(output_tokens[0, -1, :])\n",
    "            sampled_token = reverse_target_features_dict[sampled_token_index]\n",
    "            chatbot_response += \" \" + sampled_token\n",
    "\n",
    "            if (sampled_token == '<END>' or len(chatbot_response) > max_decoder_seq_length):\n",
    "                stop_condition = True\n",
    "\n",
    "                target_seq = np.zeros((1, 1, num_decoder_tokens))\n",
    "                target_seq[0, 0, sampled_token_index] = 1.\n",
    "\n",
    "            if '<END>' in chatbot_response:\n",
    "                chatbot_response = chatbot_response.replace('<END>', '')\n",
    "\n",
    "            punctuations = [' ?', ' .', ' !', ' ,']            \n",
    "            for punctuation in punctuations:\n",
    "                if punctuation in chatbot_response:\n",
    "                    chatbot_response = chatbot_response.replace(punctuation, punctuation[-1])\n",
    "\n",
    "\n",
    "            states_value = [hidden_state, cell_state]\n",
    "\n",
    "        return chatbot_response\n",
    "  \n",
    "    def make_exit(self, reply):\n",
    "        for exit_command in self.exit_commands:\n",
    "            if exit_command in reply:\n",
    "                print(\"Ok, have a great day!\")\n",
    "                return True"
   ]
  },
  {
   "cell_type": "code",
   "execution_count": null,
   "metadata": {},
   "outputs": [
    {
     "name": "stdin",
     "output_type": "stream",
     "text": [
      "Hello - what do you want translates to Spanish?\n",
      " it is hot today\n",
      "Great! it is not nice\n"
     ]
    }
   ],
   "source": [
    "# Chat!\n",
    "chat = ChatBot()\n",
    "chat.start_chat()"
   ]
  },
  {
   "cell_type": "code",
   "execution_count": null,
   "metadata": {},
   "outputs": [],
   "source": []
  }
 ],
 "metadata": {
  "environment": {
   "name": "common-cu110.m65",
   "type": "gcloud",
   "uri": "gcr.io/deeplearning-platform-release/base-cu110:m65"
  },
  "kernelspec": {
   "display_name": "Python 3",
   "language": "python",
   "name": "python3"
  },
  "language_info": {
   "codemirror_mode": {
    "name": "ipython",
    "version": 3
   },
   "file_extension": ".py",
   "mimetype": "text/x-python",
   "name": "python",
   "nbconvert_exporter": "python",
   "pygments_lexer": "ipython3",
   "version": "3.8.5"
  }
 },
 "nbformat": 4,
 "nbformat_minor": 4
}
